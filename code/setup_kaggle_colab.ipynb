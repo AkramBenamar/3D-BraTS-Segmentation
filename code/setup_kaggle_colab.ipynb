{
  "cells": [
    {
      "cell_type": "markdown",
      "metadata": {
        "id": "WzT_6wFyeSjT"
      },
      "source": []
    },
    {
      "cell_type": "code",
      "execution_count": null,
      "metadata": {
        "id": "KNFRfkTCko0Q",
        "colab": {
          "base_uri": "https://localhost:8080/"
        },
        "outputId": "14feb375-4e11-4207-90ad-8daee2cdc6c3"
      },
      "outputs": [
        {
          "output_type": "stream",
          "name": "stdout",
          "text": [
            "Mounted at /content/drive\n"
          ]
        }
      ],
      "source": [
        "from google.colab import drive\n",
        "drive.mount('/content/drive')"
      ]
    },
    {
      "cell_type": "code",
      "execution_count": null,
      "metadata": {
        "id": "fZl21jDLv3Jr"
      },
      "outputs": [],
      "source": [
        "# !cp -r /content/drive/MyDrive/GANs/BrainTumorDetection/RESULTS_KAGGLE/VERSION_split_nass/RESULTS_26/split_nass_Generator.h5 /content/drive/MyDrive/GANs/BrainTumorDetection/INPUTS_EVAL"
      ]
    },
    {
      "cell_type": "markdown",
      "metadata": {
        "id": "TjoxFxiQd9ZY"
      },
      "source": [
        "# Import Datasets from KAGGLE.COM to GDRIVE"
      ]
    },
    {
      "cell_type": "code",
      "execution_count": null,
      "metadata": {
        "id": "2bnnnYsWZgWz"
      },
      "outputs": [],
      "source": [
        "! mkdir ~/.kaggle"
      ]
    },
    {
      "cell_type": "code",
      "execution_count": null,
      "metadata": {
        "id": "VWYQpQXaWY80"
      },
      "outputs": [],
      "source": [
        "!cp /content/drive/MyDrive/kaggle.json ~/.kaggle/kaggle.json"
      ]
    },
    {
      "cell_type": "code",
      "execution_count": null,
      "metadata": {
        "colab": {
          "base_uri": "https://localhost:8080/"
        },
        "id": "NZLopt00lR3f",
        "outputId": "8a1271d9-ce84-4095-cbed-d81ccce0ef54"
      },
      "outputs": [
        {
          "name": "stdout",
          "output_type": "stream",
          "text": [
            "Downloading brats-2021-task1.zip to /content\n",
            "100% 12.3G/12.3G [01:33<00:00, 202MB/s]\n",
            "100% 12.3G/12.3G [01:33<00:00, 140MB/s]\n"
          ]
        }
      ],
      "source": [
        "! kaggle datasets download dschettler8845/brats-2021-task1/BraTS2021_Training_Data.tar"
      ]
    },
    {
      "cell_type": "code",
      "execution_count": null,
      "metadata": {
        "colab": {
          "base_uri": "https://localhost:8080/"
        },
        "id": "S0A85lQkwmIV",
        "outputId": "6621aaa3-b628-4239-93f0-d1276685b19e"
      },
      "outputs": [
        {
          "name": "stdout",
          "output_type": "stream",
          "text": [
            "^C\n"
          ]
        }
      ],
      "source": [
        "!cp BraTS2021_Training_Data.tar /content/drive/MyDrive/BraTS2021data/"
      ]
    },
    {
      "cell_type": "code",
      "execution_count": null,
      "metadata": {
        "colab": {
          "base_uri": "https://localhost:8080/"
        },
        "id": "blrEEJ0JxCYf",
        "outputId": "e54a1dda-09ad-4372-fedc-830ed2fb8319"
      },
      "outputs": [
        {
          "name": "stdout",
          "output_type": "stream",
          "text": [
            "Archive:  /content/drive/MyDrive/BraTS2021data/brats-2021-task1.zip\n",
            "  inflating: BraTS2021_00495.tar     \n",
            "  inflating: BraTS2021_00621.tar     \n",
            "  inflating: BraTS2021_Training_Data.tar  \n"
          ]
        }
      ],
      "source": [
        "! unzip  /content/drive/MyDrive/BraTS2021data/brats-2021-task1.zip"
      ]
    },
    {
      "cell_type": "code",
      "execution_count": null,
      "metadata": {
        "id": "TstU_-Gn-K3B"
      },
      "outputs": [],
      "source": []
    },
    {
      "cell_type": "markdown",
      "metadata": {
        "id": "CBjwMPcWcHNn"
      },
      "source": [
        "# Import results.zip from KAGGLE.COM to GDRIVE"
      ]
    },
    {
      "cell_type": "code",
      "execution_count": null,
      "metadata": {
        "id": "6SPsAO8DSjJ3"
      },
      "outputs": [],
      "source": [
        "EXEC = 2\n",
        "VERSION = 'fusech2'\n",
        "# VERSION = 'uGAN_S1_v3_br2021'"
      ]
    },
    {
      "cell_type": "code",
      "execution_count": null,
      "metadata": {
        "id": "HmS0K1JdVnUf"
      },
      "outputs": [],
      "source": [
        "# RUN ON NEW VERSION\n",
        "\n",
        "VERSION_PATH = f'/content/drive/MyDrive/GANs/BrainTumorDetection/RESULTS_KAGGLE/VERSION_{VERSION}'\n",
        "! mkdir $VERSION_PATH"
      ]
    },
    {
      "cell_type": "code",
      "execution_count": null,
      "metadata": {
        "id": "lYwZyV09SiHw"
      },
      "outputs": [],
      "source": [
        "# RUN ON NEW EXECUTION\n",
        "\n",
        "EXEC_PATH = f'/content/drive/MyDrive/GANs/BrainTumorDetection/RESULTS_KAGGLE/VERSION_{VERSION}/RESULTS_{EXEC}'\n",
        "! mkdir $EXEC_PATH"
      ]
    },
    {
      "cell_type": "code",
      "execution_count": null,
      "metadata": {
        "colab": {
          "base_uri": "https://localhost:8080/"
        },
        "id": "mBq5JY_Cb0aU",
        "outputId": "39a0d26a-d199-4817-9253-1343492378f4"
      },
      "outputs": [
        {
          "output_type": "stream",
          "name": "stdout",
          "text": [
            "--2023-12-11 12:33:07--  https://www.kaggleusercontent.com/kf/154452660/eyJhbGciOiJkaXIiLCJlbmMiOiJBMTI4Q0JDLUhTMjU2In0..EgVTy-tUxCou1eeBGf6EuQ.JdTyEH7OHuXLhFqstBCeBnf6OyF41Tjxl8xqbG8mwhaw4bUHxgqSUMQfNAJglDoaaKLsgEluX4A_2j3eMjnjQWzBEvrgBT6cbEaLqzAIxKRIuroZkEBkN8dclBucbHTQwoJ9GEyY-etnerGg24Q6w_ZjeEyXUiKfV2cjsCcPiBpqMyuwmkZbIFcXlgQrYaBhRGPt7WPKFxSY07FRk2INDrrUnJiLi-Myt8AY5LIHd4u4krLpAjqeNGKqNn3rzR2w8aOHKJR39oKkcki8VS_WHrNgKJ13gJfxcBKthFTZRU0wJEHMwYZvnTYMR0JMty6KBjbIbrN3JkCFLJzAGZ56vuDjJ28SqNyp7G2GCkhYGqqGm0C_LsTQHhP3TyqdWCfQ0UJlahEuRTiBi6mU_TvRbWhk3F4wOg_Y323LfvvipCiXOB34c2fzx6uTDiPgFH8DO5_hEQq4iZbs5DxebDQHJ_4k3ouhObL5H4JFLKISM66lmBtaHi8N8XEoBFZJdMDT-LX_8PppLpueRSiNpaLFooCDgQxQhCM6AZIL0krYns4jOdA1yXVKNo1ovcRuUrZxmBhasFhBadaJpjfoUXGXHeWXURsJq9hO8sHLFHV0un8J0ddua--knVIvzbU1dpMKP8JPFTIDy1EwtZNS8YbJ_A.7gIvkzVf7mIvoTUrW8Pwsw/results.zip\n",
            "Resolving www.kaggleusercontent.com (www.kaggleusercontent.com)... 35.190.26.106\n",
            "Connecting to www.kaggleusercontent.com (www.kaggleusercontent.com)|35.190.26.106|:443... connected.\n",
            "HTTP request sent, awaiting response... 200 OK\n",
            "Length: 46377360 (44M) [application/zip]\n",
            "Saving to: ‘results.zip’\n",
            "\n",
            "results.zip         100%[===================>]  44.23M  45.7MB/s    in 1.0s    \n",
            "\n",
            "2023-12-11 12:33:08 (45.7 MB/s) - ‘results.zip’ saved [46377360/46377360]\n",
            "\n"
          ]
        }
      ],
      "source": [
        "! wget 'https://www.kaggleusercontent.com/kf/154452660/eyJhbGciOiJkaXIiLCJlbmMiOiJBMTI4Q0JDLUhTMjU2In0..EgVTy-tUxCou1eeBGf6EuQ.JdTyEH7OHuXLhFqstBCeBnf6OyF41Tjxl8xqbG8mwhaw4bUHxgqSUMQfNAJglDoaaKLsgEluX4A_2j3eMjnjQWzBEvrgBT6cbEaLqzAIxKRIuroZkEBkN8dclBucbHTQwoJ9GEyY-etnerGg24Q6w_ZjeEyXUiKfV2cjsCcPiBpqMyuwmkZbIFcXlgQrYaBhRGPt7WPKFxSY07FRk2INDrrUnJiLi-Myt8AY5LIHd4u4krLpAjqeNGKqNn3rzR2w8aOHKJR39oKkcki8VS_WHrNgKJ13gJfxcBKthFTZRU0wJEHMwYZvnTYMR0JMty6KBjbIbrN3JkCFLJzAGZ56vuDjJ28SqNyp7G2GCkhYGqqGm0C_LsTQHhP3TyqdWCfQ0UJlahEuRTiBi6mU_TvRbWhk3F4wOg_Y323LfvvipCiXOB34c2fzx6uTDiPgFH8DO5_hEQq4iZbs5DxebDQHJ_4k3ouhObL5H4JFLKISM66lmBtaHi8N8XEoBFZJdMDT-LX_8PppLpueRSiNpaLFooCDgQxQhCM6AZIL0krYns4jOdA1yXVKNo1ovcRuUrZxmBhasFhBadaJpjfoUXGXHeWXURsJq9hO8sHLFHV0un8J0ddua--knVIvzbU1dpMKP8JPFTIDy1EwtZNS8YbJ_A.7gIvkzVf7mIvoTUrW8Pwsw/results.zip'"
      ]
    },
    {
      "cell_type": "code",
      "execution_count": null,
      "metadata": {
        "colab": {
          "base_uri": "https://localhost:8080/"
        },
        "id": "dMBAynpJb30D",
        "outputId": "e5f39eab-1bad-4551-916c-f41bb1fa6d73"
      },
      "outputs": [
        {
          "output_type": "stream",
          "name": "stdout",
          "text": [
            "Archive:  /content/results.zip\n",
            "  inflating: /content/drive/MyDrive/GANs/BrainTumorDetection/RESULTS_KAGGLE/RESULTS/fusech0_Generator.h5  \n",
            "  inflating: /content/drive/MyDrive/GANs/BrainTumorDetection/RESULTS_KAGGLE/RESULTS/fusech0_fit_output_1.txt  \n",
            "  inflating: /content/drive/MyDrive/GANs/BrainTumorDetection/RESULTS_KAGGLE/RESULTS/fusech0_fit_output_2.txt  \n",
            "  inflating: /content/drive/MyDrive/GANs/BrainTumorDetection/RESULTS_KAGGLE/RESULTS/fusech0_h_1.txt  \n",
            "  inflating: /content/drive/MyDrive/GANs/BrainTumorDetection/RESULTS_KAGGLE/RESULTS/fusech0_h_2.txt  \n",
            "  inflating: /content/drive/MyDrive/GANs/BrainTumorDetection/RESULTS_KAGGLE/RESULTS/fusech0_metrics_1.txt  \n",
            "  inflating: /content/drive/MyDrive/GANs/BrainTumorDetection/RESULTS_KAGGLE/RESULTS/fusech0_metrics_2.txt  \n",
            "  inflating: /content/drive/MyDrive/GANs/BrainTumorDetection/RESULTS_KAGGLE/RESULTS/fusech0_pred@epoch_001.png  \n",
            "  inflating: /content/drive/MyDrive/GANs/BrainTumorDetection/RESULTS_KAGGLE/RESULTS/fusech0_pred@epoch_002.png  \n",
            "  inflating: /content/drive/MyDrive/GANs/BrainTumorDetection/RESULTS_KAGGLE/RESULTS/fusech0_pred@epoch_003.png  \n",
            "  inflating: /content/drive/MyDrive/GANs/BrainTumorDetection/RESULTS_KAGGLE/RESULTS/fusech0_pred@epoch_004.png  \n",
            "  inflating: /content/drive/MyDrive/GANs/BrainTumorDetection/RESULTS_KAGGLE/RESULTS/fusech0_pred@epoch_005.png  \n",
            "  inflating: /content/drive/MyDrive/GANs/BrainTumorDetection/RESULTS_KAGGLE/RESULTS/fusech0_pred@epoch_006.png  \n",
            "  inflating: /content/drive/MyDrive/GANs/BrainTumorDetection/RESULTS_KAGGLE/RESULTS/fusech0_pred@epoch_007.png  \n",
            "  inflating: /content/drive/MyDrive/GANs/BrainTumorDetection/RESULTS_KAGGLE/RESULTS/fusech0_pred@epoch_008.png  \n",
            "  inflating: /content/drive/MyDrive/GANs/BrainTumorDetection/RESULTS_KAGGLE/RESULTS/fusech0_pred@epoch_009.png  \n",
            "  inflating: /content/drive/MyDrive/GANs/BrainTumorDetection/RESULTS_KAGGLE/RESULTS/fusech0_pred@epoch_010.png  \n",
            "  inflating: /content/drive/MyDrive/GANs/BrainTumorDetection/RESULTS_KAGGLE/RESULTS/fusech0_pred@epoch_011.png  \n",
            "  inflating: /content/drive/MyDrive/GANs/BrainTumorDetection/RESULTS_KAGGLE/RESULTS/fusech0_pred@epoch_012.png  \n",
            "  inflating: /content/drive/MyDrive/GANs/BrainTumorDetection/RESULTS_KAGGLE/RESULTS/fusech0_pred@epoch_013.png  \n",
            "  inflating: /content/drive/MyDrive/GANs/BrainTumorDetection/RESULTS_KAGGLE/RESULTS/fusech0_pred@epoch_014.png  \n",
            "  inflating: /content/drive/MyDrive/GANs/BrainTumorDetection/RESULTS_KAGGLE/RESULTS/fusech0_pred@epoch_015.png  \n",
            "  inflating: /content/drive/MyDrive/GANs/BrainTumorDetection/RESULTS_KAGGLE/RESULTS/fusech0_pred@epoch_016.png  \n",
            "  inflating: /content/drive/MyDrive/GANs/BrainTumorDetection/RESULTS_KAGGLE/RESULTS/fusech0_pred@epoch_017.png  \n",
            "  inflating: /content/drive/MyDrive/GANs/BrainTumorDetection/RESULTS_KAGGLE/RESULTS/fusech0_pred@epoch_018.png  \n",
            "  inflating: /content/drive/MyDrive/GANs/BrainTumorDetection/RESULTS_KAGGLE/RESULTS/fusech0_pred@epoch_019.png  \n",
            "  inflating: /content/drive/MyDrive/GANs/BrainTumorDetection/RESULTS_KAGGLE/RESULTS/fusech0_pred@epoch_020.png  \n",
            "  inflating: /content/drive/MyDrive/GANs/BrainTumorDetection/RESULTS_KAGGLE/RESULTS/fusech0_stats_1.json  \n",
            "  inflating: /content/drive/MyDrive/GANs/BrainTumorDetection/RESULTS_KAGGLE/RESULTS/fusech0_stats_2.json  \n"
          ]
        }
      ],
      "source": [
        "! unzip /content/results.zip -d /content/drive/MyDrive/GANs/BrainTumorDetection/RESULTS_KAGGLE/"
      ]
    },
    {
      "cell_type": "code",
      "execution_count": null,
      "metadata": {
        "colab": {
          "base_uri": "https://localhost:8080/"
        },
        "id": "7kmohSlgc3Sd",
        "outputId": "8046cc74-b80f-43d3-a1b3-e4f1f542582e"
      },
      "outputs": [
        {
          "output_type": "stream",
          "name": "stdout",
          "text": [
            "renamed '/content/drive/MyDrive/GANs/BrainTumorDetection/RESULTS_KAGGLE/RESULTS/fusech0_fit_output_1.txt' -> '/content/drive/MyDrive/GANs/BrainTumorDetection/RESULTS_KAGGLE/VERSION_fusech0/RESULTS_2/fusech0_fit_output_1.txt'\n",
            "renamed '/content/drive/MyDrive/GANs/BrainTumorDetection/RESULTS_KAGGLE/RESULTS/fusech0_fit_output_2.txt' -> '/content/drive/MyDrive/GANs/BrainTumorDetection/RESULTS_KAGGLE/VERSION_fusech0/RESULTS_2/fusech0_fit_output_2.txt'\n",
            "renamed '/content/drive/MyDrive/GANs/BrainTumorDetection/RESULTS_KAGGLE/RESULTS/fusech0_Generator.h5' -> '/content/drive/MyDrive/GANs/BrainTumorDetection/RESULTS_KAGGLE/VERSION_fusech0/RESULTS_2/fusech0_Generator.h5'\n",
            "renamed '/content/drive/MyDrive/GANs/BrainTumorDetection/RESULTS_KAGGLE/RESULTS/fusech0_h_1.txt' -> '/content/drive/MyDrive/GANs/BrainTumorDetection/RESULTS_KAGGLE/VERSION_fusech0/RESULTS_2/fusech0_h_1.txt'\n",
            "renamed '/content/drive/MyDrive/GANs/BrainTumorDetection/RESULTS_KAGGLE/RESULTS/fusech0_h_2.txt' -> '/content/drive/MyDrive/GANs/BrainTumorDetection/RESULTS_KAGGLE/VERSION_fusech0/RESULTS_2/fusech0_h_2.txt'\n",
            "renamed '/content/drive/MyDrive/GANs/BrainTumorDetection/RESULTS_KAGGLE/RESULTS/fusech0_metrics_1.txt' -> '/content/drive/MyDrive/GANs/BrainTumorDetection/RESULTS_KAGGLE/VERSION_fusech0/RESULTS_2/fusech0_metrics_1.txt'\n",
            "renamed '/content/drive/MyDrive/GANs/BrainTumorDetection/RESULTS_KAGGLE/RESULTS/fusech0_metrics_2.txt' -> '/content/drive/MyDrive/GANs/BrainTumorDetection/RESULTS_KAGGLE/VERSION_fusech0/RESULTS_2/fusech0_metrics_2.txt'\n",
            "renamed '/content/drive/MyDrive/GANs/BrainTumorDetection/RESULTS_KAGGLE/RESULTS/fusech0_pred@epoch_001.png' -> '/content/drive/MyDrive/GANs/BrainTumorDetection/RESULTS_KAGGLE/VERSION_fusech0/RESULTS_2/fusech0_pred@epoch_001.png'\n",
            "renamed '/content/drive/MyDrive/GANs/BrainTumorDetection/RESULTS_KAGGLE/RESULTS/fusech0_pred@epoch_002.png' -> '/content/drive/MyDrive/GANs/BrainTumorDetection/RESULTS_KAGGLE/VERSION_fusech0/RESULTS_2/fusech0_pred@epoch_002.png'\n",
            "renamed '/content/drive/MyDrive/GANs/BrainTumorDetection/RESULTS_KAGGLE/RESULTS/fusech0_pred@epoch_003.png' -> '/content/drive/MyDrive/GANs/BrainTumorDetection/RESULTS_KAGGLE/VERSION_fusech0/RESULTS_2/fusech0_pred@epoch_003.png'\n",
            "renamed '/content/drive/MyDrive/GANs/BrainTumorDetection/RESULTS_KAGGLE/RESULTS/fusech0_pred@epoch_004.png' -> '/content/drive/MyDrive/GANs/BrainTumorDetection/RESULTS_KAGGLE/VERSION_fusech0/RESULTS_2/fusech0_pred@epoch_004.png'\n",
            "renamed '/content/drive/MyDrive/GANs/BrainTumorDetection/RESULTS_KAGGLE/RESULTS/fusech0_pred@epoch_005.png' -> '/content/drive/MyDrive/GANs/BrainTumorDetection/RESULTS_KAGGLE/VERSION_fusech0/RESULTS_2/fusech0_pred@epoch_005.png'\n",
            "renamed '/content/drive/MyDrive/GANs/BrainTumorDetection/RESULTS_KAGGLE/RESULTS/fusech0_pred@epoch_006.png' -> '/content/drive/MyDrive/GANs/BrainTumorDetection/RESULTS_KAGGLE/VERSION_fusech0/RESULTS_2/fusech0_pred@epoch_006.png'\n",
            "renamed '/content/drive/MyDrive/GANs/BrainTumorDetection/RESULTS_KAGGLE/RESULTS/fusech0_pred@epoch_007.png' -> '/content/drive/MyDrive/GANs/BrainTumorDetection/RESULTS_KAGGLE/VERSION_fusech0/RESULTS_2/fusech0_pred@epoch_007.png'\n",
            "renamed '/content/drive/MyDrive/GANs/BrainTumorDetection/RESULTS_KAGGLE/RESULTS/fusech0_pred@epoch_008.png' -> '/content/drive/MyDrive/GANs/BrainTumorDetection/RESULTS_KAGGLE/VERSION_fusech0/RESULTS_2/fusech0_pred@epoch_008.png'\n",
            "renamed '/content/drive/MyDrive/GANs/BrainTumorDetection/RESULTS_KAGGLE/RESULTS/fusech0_pred@epoch_009.png' -> '/content/drive/MyDrive/GANs/BrainTumorDetection/RESULTS_KAGGLE/VERSION_fusech0/RESULTS_2/fusech0_pred@epoch_009.png'\n",
            "renamed '/content/drive/MyDrive/GANs/BrainTumorDetection/RESULTS_KAGGLE/RESULTS/fusech0_pred@epoch_010.png' -> '/content/drive/MyDrive/GANs/BrainTumorDetection/RESULTS_KAGGLE/VERSION_fusech0/RESULTS_2/fusech0_pred@epoch_010.png'\n",
            "renamed '/content/drive/MyDrive/GANs/BrainTumorDetection/RESULTS_KAGGLE/RESULTS/fusech0_pred@epoch_011.png' -> '/content/drive/MyDrive/GANs/BrainTumorDetection/RESULTS_KAGGLE/VERSION_fusech0/RESULTS_2/fusech0_pred@epoch_011.png'\n",
            "renamed '/content/drive/MyDrive/GANs/BrainTumorDetection/RESULTS_KAGGLE/RESULTS/fusech0_pred@epoch_012.png' -> '/content/drive/MyDrive/GANs/BrainTumorDetection/RESULTS_KAGGLE/VERSION_fusech0/RESULTS_2/fusech0_pred@epoch_012.png'\n",
            "renamed '/content/drive/MyDrive/GANs/BrainTumorDetection/RESULTS_KAGGLE/RESULTS/fusech0_pred@epoch_013.png' -> '/content/drive/MyDrive/GANs/BrainTumorDetection/RESULTS_KAGGLE/VERSION_fusech0/RESULTS_2/fusech0_pred@epoch_013.png'\n",
            "renamed '/content/drive/MyDrive/GANs/BrainTumorDetection/RESULTS_KAGGLE/RESULTS/fusech0_pred@epoch_014.png' -> '/content/drive/MyDrive/GANs/BrainTumorDetection/RESULTS_KAGGLE/VERSION_fusech0/RESULTS_2/fusech0_pred@epoch_014.png'\n",
            "renamed '/content/drive/MyDrive/GANs/BrainTumorDetection/RESULTS_KAGGLE/RESULTS/fusech0_pred@epoch_015.png' -> '/content/drive/MyDrive/GANs/BrainTumorDetection/RESULTS_KAGGLE/VERSION_fusech0/RESULTS_2/fusech0_pred@epoch_015.png'\n",
            "renamed '/content/drive/MyDrive/GANs/BrainTumorDetection/RESULTS_KAGGLE/RESULTS/fusech0_pred@epoch_016.png' -> '/content/drive/MyDrive/GANs/BrainTumorDetection/RESULTS_KAGGLE/VERSION_fusech0/RESULTS_2/fusech0_pred@epoch_016.png'\n",
            "renamed '/content/drive/MyDrive/GANs/BrainTumorDetection/RESULTS_KAGGLE/RESULTS/fusech0_pred@epoch_017.png' -> '/content/drive/MyDrive/GANs/BrainTumorDetection/RESULTS_KAGGLE/VERSION_fusech0/RESULTS_2/fusech0_pred@epoch_017.png'\n",
            "renamed '/content/drive/MyDrive/GANs/BrainTumorDetection/RESULTS_KAGGLE/RESULTS/fusech0_pred@epoch_018.png' -> '/content/drive/MyDrive/GANs/BrainTumorDetection/RESULTS_KAGGLE/VERSION_fusech0/RESULTS_2/fusech0_pred@epoch_018.png'\n",
            "renamed '/content/drive/MyDrive/GANs/BrainTumorDetection/RESULTS_KAGGLE/RESULTS/fusech0_pred@epoch_019.png' -> '/content/drive/MyDrive/GANs/BrainTumorDetection/RESULTS_KAGGLE/VERSION_fusech0/RESULTS_2/fusech0_pred@epoch_019.png'\n",
            "renamed '/content/drive/MyDrive/GANs/BrainTumorDetection/RESULTS_KAGGLE/RESULTS/fusech0_pred@epoch_020.png' -> '/content/drive/MyDrive/GANs/BrainTumorDetection/RESULTS_KAGGLE/VERSION_fusech0/RESULTS_2/fusech0_pred@epoch_020.png'\n",
            "renamed '/content/drive/MyDrive/GANs/BrainTumorDetection/RESULTS_KAGGLE/RESULTS/fusech0_stats_1.json' -> '/content/drive/MyDrive/GANs/BrainTumorDetection/RESULTS_KAGGLE/VERSION_fusech0/RESULTS_2/fusech0_stats_1.json'\n",
            "renamed '/content/drive/MyDrive/GANs/BrainTumorDetection/RESULTS_KAGGLE/RESULTS/fusech0_stats_2.json' -> '/content/drive/MyDrive/GANs/BrainTumorDetection/RESULTS_KAGGLE/VERSION_fusech0/RESULTS_2/fusech0_stats_2.json'\n"
          ]
        }
      ],
      "source": [
        "! mv -v /content/drive/MyDrive/GANs/BrainTumorDetection/RESULTS_KAGGLE/RESULTS/* $EXEC_PATH"
      ]
    },
    {
      "cell_type": "code",
      "execution_count": null,
      "metadata": {
        "id": "lE-iICa1dXVf"
      },
      "outputs": [],
      "source": [
        "! rm -rf /content/drive/MyDrive/GANs/BrainTumorDetection/RESULTS_KAGGLE/RESULTS/"
      ]
    },
    {
      "cell_type": "code",
      "execution_count": null,
      "metadata": {
        "id": "ZAeLkgaxVVoa"
      },
      "outputs": [],
      "source": [
        "# ! mv -v /content/drive/MyDrive/GANs/BrainTumorDetection/RESULTS_KAGGLE/* $VERSION_PATH"
      ]
    },
    {
      "cell_type": "markdown",
      "metadata": {
        "id": "jb23yP89cWwc"
      },
      "source": [
        "# Zipping /RESULTS"
      ]
    },
    {
      "cell_type": "code",
      "execution_count": null,
      "metadata": {
        "id": "B0xijz6UYYYh"
      },
      "outputs": [],
      "source": [
        "EXEC_PATH = f'/content/drive/MyDrive/GANs/BrainTumorDetection/RESULTS_KAGGLE/VERSION_{VERSION}/RESULTS_{EXEC}/*'"
      ]
    },
    {
      "cell_type": "code",
      "execution_count": null,
      "metadata": {
        "colab": {
          "base_uri": "https://localhost:8080/"
        },
        "id": "SOKmdjQzcC9V",
        "outputId": "57156c1f-4f74-462d-ee29-f43b80bd3d1a"
      },
      "outputs": [
        {
          "output_type": "stream",
          "name": "stdout",
          "text": [
            "  adding: content/drive/MyDrive/GANs/BrainTumorDetection/RESULTS_KAGGLE/VERSION_fusech2/RESULTS_2/fusech2_fit_output_1.txt (deflated 91%)\n",
            "  adding: content/drive/MyDrive/GANs/BrainTumorDetection/RESULTS_KAGGLE/VERSION_fusech2/RESULTS_2/fusech2_fit_output_2.txt (deflated 92%)\n",
            "  adding: content/drive/MyDrive/GANs/BrainTumorDetection/RESULTS_KAGGLE/VERSION_fusech2/RESULTS_2/fusech2_Generator.h5 (deflated 8%)\n",
            "  adding: content/drive/MyDrive/GANs/BrainTumorDetection/RESULTS_KAGGLE/VERSION_fusech2/RESULTS_2/fusech2_h_1.txt (deflated 88%)\n",
            "  adding: content/drive/MyDrive/GANs/BrainTumorDetection/RESULTS_KAGGLE/VERSION_fusech2/RESULTS_2/fusech2_h_2.txt (deflated 88%)\n",
            "  adding: content/drive/MyDrive/GANs/BrainTumorDetection/RESULTS_KAGGLE/VERSION_fusech2/RESULTS_2/fusech2_metrics_1.txt (deflated 46%)\n",
            "  adding: content/drive/MyDrive/GANs/BrainTumorDetection/RESULTS_KAGGLE/VERSION_fusech2/RESULTS_2/fusech2_metrics_2.txt (deflated 46%)\n",
            "  adding: content/drive/MyDrive/GANs/BrainTumorDetection/RESULTS_KAGGLE/VERSION_fusech2/RESULTS_2/fusech2_pred@epoch_001.png (deflated 3%)\n",
            "  adding: content/drive/MyDrive/GANs/BrainTumorDetection/RESULTS_KAGGLE/VERSION_fusech2/RESULTS_2/fusech2_pred@epoch_002.png (deflated 3%)\n",
            "  adding: content/drive/MyDrive/GANs/BrainTumorDetection/RESULTS_KAGGLE/VERSION_fusech2/RESULTS_2/fusech2_pred@epoch_003.png (deflated 3%)\n",
            "  adding: content/drive/MyDrive/GANs/BrainTumorDetection/RESULTS_KAGGLE/VERSION_fusech2/RESULTS_2/fusech2_pred@epoch_004.png (deflated 2%)\n",
            "  adding: content/drive/MyDrive/GANs/BrainTumorDetection/RESULTS_KAGGLE/VERSION_fusech2/RESULTS_2/fusech2_pred@epoch_005.png (deflated 4%)\n",
            "  adding: content/drive/MyDrive/GANs/BrainTumorDetection/RESULTS_KAGGLE/VERSION_fusech2/RESULTS_2/fusech2_pred@epoch_006.png (deflated 3%)\n",
            "  adding: content/drive/MyDrive/GANs/BrainTumorDetection/RESULTS_KAGGLE/VERSION_fusech2/RESULTS_2/fusech2_pred@epoch_007.png (deflated 2%)\n",
            "  adding: content/drive/MyDrive/GANs/BrainTumorDetection/RESULTS_KAGGLE/VERSION_fusech2/RESULTS_2/fusech2_pred@epoch_008.png (deflated 2%)\n",
            "  adding: content/drive/MyDrive/GANs/BrainTumorDetection/RESULTS_KAGGLE/VERSION_fusech2/RESULTS_2/fusech2_pred@epoch_009.png (deflated 3%)\n",
            "  adding: content/drive/MyDrive/GANs/BrainTumorDetection/RESULTS_KAGGLE/VERSION_fusech2/RESULTS_2/fusech2_pred@epoch_010.png (deflated 3%)\n",
            "  adding: content/drive/MyDrive/GANs/BrainTumorDetection/RESULTS_KAGGLE/VERSION_fusech2/RESULTS_2/fusech2_stats_1.json (deflated 79%)\n",
            "  adding: content/drive/MyDrive/GANs/BrainTumorDetection/RESULTS_KAGGLE/VERSION_fusech2/RESULTS_2/fusech2_stats_2.json (deflated 79%)\n"
          ]
        }
      ],
      "source": [
        "! rm -rf /content/drive/MyDrive/GANs/BrainTumorDetection/results.zip\n",
        "! zip -r /content/drive/MyDrive/GANs/BrainTumorDetection/results.zip $EXEC_PATH"
      ]
    },
    {
      "cell_type": "markdown",
      "metadata": {
        "id": "NH5dDMMDnZSF"
      },
      "source": [
        "# Zipping /INPUTS"
      ]
    },
    {
      "cell_type": "code",
      "execution_count": null,
      "metadata": {
        "colab": {
          "base_uri": "https://localhost:8080/"
        },
        "id": "QphlnbfpToLo",
        "outputId": "6d240fdc-83f3-449f-c979-35ca49fecdf5"
      },
      "outputs": [
        {
          "name": "stdout",
          "output_type": "stream",
          "text": [
            "rm: cannot remove '/content/drive/MyDrive/GANs/BrainTumorDetection/inputs_eval.zip': No such file or directory\n"
          ]
        }
      ],
      "source": [
        "! rm /content/drive/MyDrive/GANs/BrainTumorDetection/inputs_eval.zip"
      ]
    },
    {
      "cell_type": "code",
      "execution_count": null,
      "metadata": {
        "colab": {
          "base_uri": "https://localhost:8080/"
        },
        "id": "Zi_FFjgVnYU8",
        "outputId": "7cc4dc78-c038-4db4-82ca-c438e459f46d"
      },
      "outputs": [
        {
          "output_type": "stream",
          "name": "stdout",
          "text": [
            "updating: content/drive/MyDrive/GANs/BrainTumorDetection/INPUTS_EVAL/class_weights.npy (deflated 41%)\n",
            "updating: content/drive/MyDrive/GANs/BrainTumorDetection/INPUTS_EVAL/split.json (deflated 92%)\n",
            "  adding: content/drive/MyDrive/GANs/BrainTumorDetection/INPUTS_EVAL/split_nass_Generator.h5 (deflated 7%)\n"
          ]
        }
      ],
      "source": [
        "! zip -r /content/drive/MyDrive/GANs/BrainTumorDetection/inputs_eval.zip /content/drive/MyDrive/GANs/BrainTumorDetection/INPUTS_EVAL/*"
      ]
    },
    {
      "cell_type": "code",
      "execution_count": null,
      "metadata": {
        "colab": {
          "base_uri": "https://localhost:8080/"
        },
        "id": "gd4eRt8HZvl6",
        "outputId": "c51f0674-04b5-4ac8-e967-7ab1e066c3fb"
      },
      "outputs": [
        {
          "name": "stdout",
          "output_type": "stream",
          "text": [
            "Archive:  /content/drive/MyDrive/GANs/BrainTumorDetection/results.zip\n",
            "replace /content/RESULTS/content/drive/MyDrive/GANs/BrainTumorDetection/RESULTS_KAGGLE/VERSION_uGAN_S1_v3_br2021/RESULTS_11/uGAN_S1_v3_br2021_Discriminator.h5? [y]es, [n]o, [A]ll, [N]one, [r]ename: "
          ]
        }
      ],
      "source": [
        "! unzip /content/drive/MyDrive/GANs/BrainTumorDetection/results.zip -d /content/RESULTS"
      ]
    }
  ],
  "metadata": {
    "colab": {
      "collapsed_sections": [
        "TjoxFxiQd9ZY",
        "NH5dDMMDnZSF"
      ],
      "provenance": []
    },
    "kernelspec": {
      "display_name": "Python 3",
      "name": "python3"
    },
    "language_info": {
      "name": "python"
    }
  },
  "nbformat": 4,
  "nbformat_minor": 0
}